{
 "cells": [
  {
   "cell_type": "markdown",
   "id": "8e2117ba",
   "metadata": {},
   "source": [
    "# Important Stats"
   ]
  },
  {
   "cell_type": "markdown",
   "id": "1df2734d",
   "metadata": {},
   "source": [
    "<div>\n",
    "<img src=\"Stats.png\" width=\"400\"/>\n",
    "    </div>"
   ]
  },
  {
   "cell_type": "markdown",
   "id": "86445e59",
   "metadata": {},
   "source": [
    "<div>\n",
    "<img src=\"Statistics.png\" width=\"400\"/>\n",
    "    </div>"
   ]
  },
  {
   "cell_type": "code",
   "execution_count": 1,
   "id": "efb8b0de",
   "metadata": {},
   "outputs": [],
   "source": [
    "R = 99377 # range"
   ]
  },
  {
   "cell_type": "markdown",
   "id": "1941a426",
   "metadata": {},
   "source": [
    "# Intro to project"
   ]
  },
  {
   "cell_type": "code",
   "execution_count": 2,
   "id": "6e119688",
   "metadata": {},
   "outputs": [],
   "source": [
    "import numpy as np\n",
    "import pandas as pd\n",
    "from sklearn.model_selection import train_test_split\n",
    "from sklearn.metrics import mean_squared_error\n",
    "from tqdm.auto import tqdm\n",
    "import xgboost as xgb\n",
    "import seaborn as sns\n",
    "import matplotlib.pyplot as plt\n",
    "import plotly.express as px\n",
    "from jupyterthemes import jtplot\n",
    "jtplot.style(theme='monokai', context='notebook', ticks=True, grid=False)\n",
    "from plotly.offline import download_plotlyjs, init_notebook_mode, plot, iplot"
   ]
  },
  {
   "cell_type": "code",
   "execution_count": 3,
   "id": "1b633897",
   "metadata": {},
   "outputs": [],
   "source": [
    "df = pd.read_excel(\"data.xlsx\")"
   ]
  },
  {
   "cell_type": "code",
   "execution_count": 6,
   "id": "a56b0d35",
   "metadata": {
    "scrolled": true
   },
   "outputs": [
    {
     "data": {
      "text/plain": [
       "ID                int64\n",
       "Carat Weight    float64\n",
       "Cut              object\n",
       "Color            object\n",
       "Clarity          object\n",
       "Polish           object\n",
       "Symmetry         object\n",
       "Report           object\n",
       "Price             int64\n",
       "dtype: object"
      ]
     },
     "execution_count": 6,
     "metadata": {},
     "output_type": "execute_result"
    }
   ],
   "source": [
    "df.dtypes"
   ]
  },
  {
   "cell_type": "code",
   "execution_count": 7,
   "id": "6c7b5683",
   "metadata": {},
   "outputs": [
    {
     "data": {
      "text/plain": [
       "Index(['ID', 'Carat Weight', 'Cut', 'Color', 'Clarity', 'Polish', 'Symmetry',\n",
       "       'Report', 'Price'],\n",
       "      dtype='object')"
      ]
     },
     "execution_count": 7,
     "metadata": {},
     "output_type": "execute_result"
    }
   ],
   "source": [
    "df.columns"
   ]
  },
  {
   "cell_type": "code",
   "execution_count": 8,
   "id": "cae9238b",
   "metadata": {},
   "outputs": [],
   "source": [
    "df_new = pd.get_dummies(df, columns=['Cut', 'Color', 'Clarity', 'Polish', 'Symmetry', 'Report'])\n",
    "df_new.drop(\"ID\", axis=1, inplace=True)"
   ]
  },
  {
   "cell_type": "code",
   "execution_count": 9,
   "id": "2f3488fc",
   "metadata": {},
   "outputs": [
    {
     "data": {
      "text/html": [
       "<div>\n",
       "<style scoped>\n",
       "    .dataframe tbody tr th:only-of-type {\n",
       "        vertical-align: middle;\n",
       "    }\n",
       "\n",
       "    .dataframe tbody tr th {\n",
       "        vertical-align: top;\n",
       "    }\n",
       "\n",
       "    .dataframe thead th {\n",
       "        text-align: right;\n",
       "    }\n",
       "</style>\n",
       "<table border=\"1\" class=\"dataframe\">\n",
       "  <thead>\n",
       "    <tr style=\"text-align: right;\">\n",
       "      <th></th>\n",
       "      <th>Carat Weight</th>\n",
       "      <th>Price</th>\n",
       "      <th>Cut_Fair</th>\n",
       "      <th>Cut_Good</th>\n",
       "      <th>Cut_Ideal</th>\n",
       "      <th>Cut_Signature-Ideal</th>\n",
       "      <th>Cut_Very Good</th>\n",
       "      <th>Color_D</th>\n",
       "      <th>Color_E</th>\n",
       "      <th>Color_F</th>\n",
       "      <th>...</th>\n",
       "      <th>Polish_EX</th>\n",
       "      <th>Polish_G</th>\n",
       "      <th>Polish_ID</th>\n",
       "      <th>Polish_VG</th>\n",
       "      <th>Symmetry_EX</th>\n",
       "      <th>Symmetry_G</th>\n",
       "      <th>Symmetry_ID</th>\n",
       "      <th>Symmetry_VG</th>\n",
       "      <th>Report_AGSL</th>\n",
       "      <th>Report_GIA</th>\n",
       "    </tr>\n",
       "  </thead>\n",
       "  <tbody>\n",
       "    <tr>\n",
       "      <th>0</th>\n",
       "      <td>1.10</td>\n",
       "      <td>5169</td>\n",
       "      <td>0</td>\n",
       "      <td>0</td>\n",
       "      <td>1</td>\n",
       "      <td>0</td>\n",
       "      <td>0</td>\n",
       "      <td>0</td>\n",
       "      <td>0</td>\n",
       "      <td>0</td>\n",
       "      <td>...</td>\n",
       "      <td>0</td>\n",
       "      <td>0</td>\n",
       "      <td>0</td>\n",
       "      <td>1</td>\n",
       "      <td>1</td>\n",
       "      <td>0</td>\n",
       "      <td>0</td>\n",
       "      <td>0</td>\n",
       "      <td>0</td>\n",
       "      <td>1</td>\n",
       "    </tr>\n",
       "    <tr>\n",
       "      <th>1</th>\n",
       "      <td>0.83</td>\n",
       "      <td>3470</td>\n",
       "      <td>0</td>\n",
       "      <td>0</td>\n",
       "      <td>1</td>\n",
       "      <td>0</td>\n",
       "      <td>0</td>\n",
       "      <td>0</td>\n",
       "      <td>0</td>\n",
       "      <td>0</td>\n",
       "      <td>...</td>\n",
       "      <td>0</td>\n",
       "      <td>0</td>\n",
       "      <td>1</td>\n",
       "      <td>0</td>\n",
       "      <td>0</td>\n",
       "      <td>0</td>\n",
       "      <td>1</td>\n",
       "      <td>0</td>\n",
       "      <td>1</td>\n",
       "      <td>0</td>\n",
       "    </tr>\n",
       "    <tr>\n",
       "      <th>2</th>\n",
       "      <td>0.85</td>\n",
       "      <td>3183</td>\n",
       "      <td>0</td>\n",
       "      <td>0</td>\n",
       "      <td>1</td>\n",
       "      <td>0</td>\n",
       "      <td>0</td>\n",
       "      <td>0</td>\n",
       "      <td>0</td>\n",
       "      <td>0</td>\n",
       "      <td>...</td>\n",
       "      <td>1</td>\n",
       "      <td>0</td>\n",
       "      <td>0</td>\n",
       "      <td>0</td>\n",
       "      <td>1</td>\n",
       "      <td>0</td>\n",
       "      <td>0</td>\n",
       "      <td>0</td>\n",
       "      <td>0</td>\n",
       "      <td>1</td>\n",
       "    </tr>\n",
       "    <tr>\n",
       "      <th>3</th>\n",
       "      <td>0.91</td>\n",
       "      <td>4370</td>\n",
       "      <td>0</td>\n",
       "      <td>0</td>\n",
       "      <td>1</td>\n",
       "      <td>0</td>\n",
       "      <td>0</td>\n",
       "      <td>0</td>\n",
       "      <td>1</td>\n",
       "      <td>0</td>\n",
       "      <td>...</td>\n",
       "      <td>0</td>\n",
       "      <td>0</td>\n",
       "      <td>0</td>\n",
       "      <td>1</td>\n",
       "      <td>0</td>\n",
       "      <td>0</td>\n",
       "      <td>0</td>\n",
       "      <td>1</td>\n",
       "      <td>0</td>\n",
       "      <td>1</td>\n",
       "    </tr>\n",
       "    <tr>\n",
       "      <th>4</th>\n",
       "      <td>0.83</td>\n",
       "      <td>3171</td>\n",
       "      <td>0</td>\n",
       "      <td>0</td>\n",
       "      <td>1</td>\n",
       "      <td>0</td>\n",
       "      <td>0</td>\n",
       "      <td>0</td>\n",
       "      <td>0</td>\n",
       "      <td>0</td>\n",
       "      <td>...</td>\n",
       "      <td>1</td>\n",
       "      <td>0</td>\n",
       "      <td>0</td>\n",
       "      <td>0</td>\n",
       "      <td>1</td>\n",
       "      <td>0</td>\n",
       "      <td>0</td>\n",
       "      <td>0</td>\n",
       "      <td>0</td>\n",
       "      <td>1</td>\n",
       "    </tr>\n",
       "  </tbody>\n",
       "</table>\n",
       "<p>5 rows × 30 columns</p>\n",
       "</div>"
      ],
      "text/plain": [
       "   Carat Weight  Price  Cut_Fair  Cut_Good  Cut_Ideal  Cut_Signature-Ideal  \\\n",
       "0          1.10   5169         0         0          1                    0   \n",
       "1          0.83   3470         0         0          1                    0   \n",
       "2          0.85   3183         0         0          1                    0   \n",
       "3          0.91   4370         0         0          1                    0   \n",
       "4          0.83   3171         0         0          1                    0   \n",
       "\n",
       "   Cut_Very Good  Color_D  Color_E  Color_F  ...  Polish_EX  Polish_G  \\\n",
       "0              0        0        0        0  ...          0         0   \n",
       "1              0        0        0        0  ...          0         0   \n",
       "2              0        0        0        0  ...          1         0   \n",
       "3              0        0        1        0  ...          0         0   \n",
       "4              0        0        0        0  ...          1         0   \n",
       "\n",
       "   Polish_ID  Polish_VG  Symmetry_EX  Symmetry_G  Symmetry_ID  Symmetry_VG  \\\n",
       "0          0          1            1           0            0            0   \n",
       "1          1          0            0           0            1            0   \n",
       "2          0          0            1           0            0            0   \n",
       "3          0          1            0           0            0            1   \n",
       "4          0          0            1           0            0            0   \n",
       "\n",
       "   Report_AGSL  Report_GIA  \n",
       "0            0           1  \n",
       "1            1           0  \n",
       "2            0           1  \n",
       "3            0           1  \n",
       "4            0           1  \n",
       "\n",
       "[5 rows x 30 columns]"
      ]
     },
     "execution_count": 9,
     "metadata": {},
     "output_type": "execute_result"
    }
   ],
   "source": [
    "df_new.head()"
   ]
  },
  {
   "cell_type": "code",
   "execution_count": 10,
   "id": "127e56cf",
   "metadata": {},
   "outputs": [
    {
     "data": {
      "text/plain": [
       "(6000, 30)"
      ]
     },
     "execution_count": 10,
     "metadata": {},
     "output_type": "execute_result"
    }
   ],
   "source": [
    "df_new.shape"
   ]
  },
  {
   "cell_type": "code",
   "execution_count": 11,
   "id": "a5643ac5",
   "metadata": {},
   "outputs": [],
   "source": [
    "X = df_new.drop(\"Price\", axis=1)\n",
    "y = df_new[\"Price\"]"
   ]
  },
  {
   "cell_type": "code",
   "execution_count": 12,
   "id": "67c55639",
   "metadata": {},
   "outputs": [],
   "source": [
    "X_train, X_test, y_train, y_test = train_test_split(X, y, test_size=.3, random_state=8)"
   ]
  },
  {
   "cell_type": "markdown",
   "id": "2ad7e767",
   "metadata": {},
   "source": [
    "## Linear Regression"
   ]
  },
  {
   "cell_type": "code",
   "execution_count": 13,
   "id": "f2d21a28",
   "metadata": {},
   "outputs": [],
   "source": [
    "from sklearn.linear_model import LinearRegression"
   ]
  },
  {
   "cell_type": "code",
   "execution_count": 14,
   "id": "efb51824",
   "metadata": {},
   "outputs": [
    {
     "data": {
      "text/plain": [
       "0.8643143717610149"
      ]
     },
     "execution_count": 14,
     "metadata": {},
     "output_type": "execute_result"
    }
   ],
   "source": [
    "linear_model = LinearRegression()\n",
    "linear_model.fit(X_train, y_train)\n",
    "linear_model.score(X_test, y_test)"
   ]
  },
  {
   "cell_type": "markdown",
   "id": "8932b2e3",
   "metadata": {},
   "source": [
    "__Из-за сравнительно меньшего результата, в дальнейшем мы не будем использовать линейную регрессию__"
   ]
  },
  {
   "cell_type": "markdown",
   "id": "0688a63c",
   "metadata": {},
   "source": [
    "## Decision Tree Regression"
   ]
  },
  {
   "cell_type": "code",
   "execution_count": 15,
   "id": "bddb35ef",
   "metadata": {},
   "outputs": [],
   "source": [
    "from sklearn.tree import DecisionTreeRegressor"
   ]
  },
  {
   "cell_type": "code",
   "execution_count": 16,
   "id": "eb841bae",
   "metadata": {},
   "outputs": [
    {
     "data": {
      "text/plain": [
       "0.9600042622755353"
      ]
     },
     "execution_count": 16,
     "metadata": {},
     "output_type": "execute_result"
    }
   ],
   "source": [
    "dec_model = DecisionTreeRegressor()\n",
    "dec_model.fit(X_train, y_train)\n",
    "dec_model.score(X_test, y_test)"
   ]
  },
  {
   "cell_type": "code",
   "execution_count": 17,
   "id": "39330a41",
   "metadata": {},
   "outputs": [
    {
     "name": "stdout",
     "output_type": "stream",
     "text": [
      "1953.4044821086256 0.019656504846278573\n"
     ]
    }
   ],
   "source": [
    "y_pred = dec_model.predict(X_test)\n",
    "mse_dec = mean_squared_error(y_test, y_pred)\n",
    "print(np.sqrt(mse_dec), np.sqrt(mse_dec)/R )"
   ]
  },
  {
   "cell_type": "markdown",
   "id": "38ccd562",
   "metadata": {},
   "source": [
    "__Процент ошибки не составляет более двух процентов, что является более менее приемлемо__"
   ]
  },
  {
   "cell_type": "markdown",
   "id": "207d76e9",
   "metadata": {},
   "source": [
    "## Random Forest Regression"
   ]
  },
  {
   "cell_type": "code",
   "execution_count": 19,
   "id": "ec666f72",
   "metadata": {},
   "outputs": [],
   "source": [
    "from sklearn.ensemble import RandomForestRegressor"
   ]
  },
  {
   "cell_type": "code",
   "execution_count": 20,
   "id": "f87777ed",
   "metadata": {},
   "outputs": [
    {
     "data": {
      "text/plain": [
       "0.9753176434394875"
      ]
     },
     "execution_count": 20,
     "metadata": {},
     "output_type": "execute_result"
    }
   ],
   "source": [
    "random_model = RandomForestRegressor()\n",
    "random_model.fit(X_train, y_train)\n",
    "random_model.score(X_test, y_test)"
   ]
  },
  {
   "cell_type": "code",
   "execution_count": 21,
   "id": "8218e79e",
   "metadata": {},
   "outputs": [
    {
     "name": "stdout",
     "output_type": "stream",
     "text": [
      "1534.5414892129759 0.015441616160811616\n"
     ]
    }
   ],
   "source": [
    "y_pred = random_model.predict(X_test)\n",
    "mse_random = mean_squared_error(y_test, y_pred)\n",
    "print(np.sqrt(mse_random), np.sqrt(mse_random)/R )"
   ]
  },
  {
   "cell_type": "markdown",
   "id": "da999cd1",
   "metadata": {},
   "source": [
    "__Процент ошибки не составляет более полтора процентов, что лучше чем предыдущая модель__"
   ]
  },
  {
   "cell_type": "markdown",
   "id": "9ba729ac",
   "metadata": {},
   "source": [
    "## XGBoost Regression "
   ]
  },
  {
   "cell_type": "code",
   "execution_count": 22,
   "id": "c499936b",
   "metadata": {},
   "outputs": [],
   "source": [
    "from xgboost import XGBRegressor"
   ]
  },
  {
   "cell_type": "code",
   "execution_count": 23,
   "id": "c9affd20",
   "metadata": {},
   "outputs": [
    {
     "data": {
      "text/plain": [
       "0.9834671891565371"
      ]
     },
     "execution_count": 23,
     "metadata": {},
     "output_type": "execute_result"
    }
   ],
   "source": [
    "xgb_model = XGBRegressor()\n",
    "xgb_model.fit(X_train, y_train)\n",
    "xgb_model.score(X_test, y_test)"
   ]
  },
  {
   "cell_type": "code",
   "execution_count": 24,
   "id": "5c117dc0",
   "metadata": {},
   "outputs": [
    {
     "name": "stdout",
     "output_type": "stream",
     "text": [
      "1255.9104452456604 0.012637838184345074\n"
     ]
    }
   ],
   "source": [
    "y_pred = xgb_model.predict(X_test)\n",
    "mse_xgb = mean_squared_error(y_test, y_pred)\n",
    "print(np.sqrt(mse_xgb), np.sqrt(mse_xgb)/R )"
   ]
  },
  {
   "cell_type": "markdown",
   "id": "9f204546",
   "metadata": {},
   "source": [
    "__Процент ошибки упал до 1.2 процентов, что являеться лучшим среди данных трех__"
   ]
  },
  {
   "cell_type": "markdown",
   "id": "846b1bc4",
   "metadata": {},
   "source": [
    "## XGBoost Graph"
   ]
  },
  {
   "cell_type": "code",
   "execution_count": 25,
   "id": "fb8039de",
   "metadata": {},
   "outputs": [],
   "source": [
    "y_pred_xgb = xgb_model.predict(X)"
   ]
  },
  {
   "cell_type": "code",
   "execution_count": 26,
   "id": "53755040",
   "metadata": {},
   "outputs": [
    {
     "data": {
      "text/plain": [
       "array([ 5306.856 ,  3544.0225,  3349.8835, ...,  6256.2793, 11302.474 ,\n",
       "       31379.951 ], dtype=float32)"
      ]
     },
     "execution_count": 26,
     "metadata": {},
     "output_type": "execute_result"
    }
   ],
   "source": [
    "y_pred_xgb"
   ]
  },
  {
   "cell_type": "code",
   "execution_count": 27,
   "id": "76956f95",
   "metadata": {},
   "outputs": [
    {
     "data": {
      "text/plain": [
       "[<matplotlib.lines.Line2D at 0x159ff8e50>]"
      ]
     },
     "execution_count": 27,
     "metadata": {},
     "output_type": "execute_result"
    },
    {
     "data": {
      "image/png": "[encoded data removed]",
      "text/plain": [
       "<Figure size 1200x800 with 1 Axes>"
      ]
     },
     "metadata": {},
     "output_type": "display_data"
    }
   ],
   "source": [
    "plt.figure(figsize=(12,8))\n",
    "plt.scatter(y_pred_xgb, y)\n",
    "plt.plot(range(110000), range(110000), c='red')"
   ]
  },
  {
   "cell_type": "markdown",
   "id": "f3214280",
   "metadata": {},
   "source": [
    "__Так как нам нужно получить лучшие бриллианты за свою цену, то мы должны найти такие, которые ниже графика регрессии__"
   ]
  },
  {
   "cell_type": "code",
   "execution_count": 28,
   "id": "411ca03a",
   "metadata": {},
   "outputs": [
    {
     "data": {
      "text/plain": [
       "0      -137.855957\n",
       "1       -74.022461\n",
       "2      -166.883545\n",
       "3      -157.957031\n",
       "4      -137.196045\n",
       "           ...    \n",
       "5995   -189.373535\n",
       "5996   -320.136230\n",
       "5997    -99.279297\n",
       "5998    -96.473633\n",
       "5999   -872.951172\n",
       "Name: Price, Length: 6000, dtype: float64"
      ]
     },
     "execution_count": 28,
     "metadata": {},
     "output_type": "execute_result"
    }
   ],
   "source": [
    "y_diff_xgb = y - y_pred_xgb\n",
    "y_diff_xgb"
   ]
  },
  {
   "cell_type": "code",
   "execution_count": 29,
   "id": "d2c307e1",
   "metadata": {},
   "outputs": [
    {
     "data": {
      "text/html": [
       "<div>\n",
       "<style scoped>\n",
       "    .dataframe tbody tr th:only-of-type {\n",
       "        vertical-align: middle;\n",
       "    }\n",
       "\n",
       "    .dataframe tbody tr th {\n",
       "        vertical-align: top;\n",
       "    }\n",
       "\n",
       "    .dataframe thead th {\n",
       "        text-align: right;\n",
       "    }\n",
       "</style>\n",
       "<table border=\"1\" class=\"dataframe\">\n",
       "  <thead>\n",
       "    <tr style=\"text-align: right;\">\n",
       "      <th></th>\n",
       "      <th>Price</th>\n",
       "      <th>Real Value</th>\n",
       "      <th>Ratio</th>\n",
       "      <th>Diff</th>\n",
       "    </tr>\n",
       "  </thead>\n",
       "  <tbody>\n",
       "    <tr>\n",
       "      <th>1013</th>\n",
       "      <td>31724</td>\n",
       "      <td>38915.859375</td>\n",
       "      <td>1.226701</td>\n",
       "      <td>-7191.859375</td>\n",
       "    </tr>\n",
       "    <tr>\n",
       "      <th>1641</th>\n",
       "      <td>8803</td>\n",
       "      <td>18237.214844</td>\n",
       "      <td>2.071705</td>\n",
       "      <td>-9434.214844</td>\n",
       "    </tr>\n",
       "    <tr>\n",
       "      <th>2264</th>\n",
       "      <td>38072</td>\n",
       "      <td>44202.492188</td>\n",
       "      <td>1.161024</td>\n",
       "      <td>-6130.492188</td>\n",
       "    </tr>\n",
       "    <tr>\n",
       "      <th>2582</th>\n",
       "      <td>27942</td>\n",
       "      <td>35218.863281</td>\n",
       "      <td>1.260427</td>\n",
       "      <td>-7276.863281</td>\n",
       "    </tr>\n",
       "    <tr>\n",
       "      <th>2592</th>\n",
       "      <td>59415</td>\n",
       "      <td>71889.234375</td>\n",
       "      <td>1.209951</td>\n",
       "      <td>-12474.234375</td>\n",
       "    </tr>\n",
       "    <tr>\n",
       "      <th>3739</th>\n",
       "      <td>44115</td>\n",
       "      <td>49299.742188</td>\n",
       "      <td>1.117528</td>\n",
       "      <td>-5184.742188</td>\n",
       "    </tr>\n",
       "    <tr>\n",
       "      <th>4181</th>\n",
       "      <td>23864</td>\n",
       "      <td>30834.037109</td>\n",
       "      <td>1.292073</td>\n",
       "      <td>-6970.037109</td>\n",
       "    </tr>\n",
       "    <tr>\n",
       "      <th>4191</th>\n",
       "      <td>43770</td>\n",
       "      <td>49131.152344</td>\n",
       "      <td>1.122485</td>\n",
       "      <td>-5361.152344</td>\n",
       "    </tr>\n",
       "    <tr>\n",
       "      <th>4364</th>\n",
       "      <td>34225</td>\n",
       "      <td>40755.535156</td>\n",
       "      <td>1.190812</td>\n",
       "      <td>-6530.535156</td>\n",
       "    </tr>\n",
       "    <tr>\n",
       "      <th>5219</th>\n",
       "      <td>43556</td>\n",
       "      <td>48901.132812</td>\n",
       "      <td>1.122719</td>\n",
       "      <td>-5345.132812</td>\n",
       "    </tr>\n",
       "    <tr>\n",
       "      <th>5964</th>\n",
       "      <td>37739</td>\n",
       "      <td>43680.070312</td>\n",
       "      <td>1.157425</td>\n",
       "      <td>-5941.070312</td>\n",
       "    </tr>\n",
       "    <tr>\n",
       "      <th>5989</th>\n",
       "      <td>61035</td>\n",
       "      <td>68232.437500</td>\n",
       "      <td>1.117923</td>\n",
       "      <td>-7197.437500</td>\n",
       "    </tr>\n",
       "  </tbody>\n",
       "</table>\n",
       "</div>"
      ],
      "text/plain": [
       "      Price    Real Value     Ratio          Diff\n",
       "1013  31724  38915.859375  1.226701  -7191.859375\n",
       "1641   8803  18237.214844  2.071705  -9434.214844\n",
       "2264  38072  44202.492188  1.161024  -6130.492188\n",
       "2582  27942  35218.863281  1.260427  -7276.863281\n",
       "2592  59415  71889.234375  1.209951 -12474.234375\n",
       "3739  44115  49299.742188  1.117528  -5184.742188\n",
       "4181  23864  30834.037109  1.292073  -6970.037109\n",
       "4191  43770  49131.152344  1.122485  -5361.152344\n",
       "4364  34225  40755.535156  1.190812  -6530.535156\n",
       "5219  43556  48901.132812  1.122719  -5345.132812\n",
       "5964  37739  43680.070312  1.157425  -5941.070312\n",
       "5989  61035  68232.437500  1.117923  -7197.437500"
      ]
     },
     "execution_count": 29,
     "metadata": {},
     "output_type": "execute_result"
    }
   ],
   "source": [
    "y_result_xgb = pd.DataFrame({\"Price\": y, 'Real Value': y_pred_xgb, 'Ratio': y_pred_xgb / y, \"Diff\": y_diff_xgb})\n",
    "y_result_xgb[(y_result_xgb[\"Diff\"] < -5000)]"
   ]
  },
  {
   "cell_type": "markdown",
   "id": "70a1ba92",
   "metadata": {},
   "source": [
    "## Random Forest Graph"
   ]
  },
  {
   "cell_type": "code",
   "execution_count": 28,
   "id": "bcbab6ab",
   "metadata": {},
   "outputs": [
    {
     "data": {
      "text/plain": [
       "[<matplotlib.lines.Line2D at 0x1472d7090>]"
      ]
     },
     "execution_count": 28,
     "metadata": {},
     "output_type": "execute_result"
    },
    {
     "data": {
      "image/png": "[encoded data removed]",
      "text/plain": [
       "<Figure size 1200x800 with 1 Axes>"
      ]
     },
     "metadata": {},
     "output_type": "display_data"
    }
   ],
   "source": [
    "y_pred_random = random_model.predict(X)\n",
    "plt.figure(figsize=(12,8))\n",
    "plt.scatter(y_pred_random, y)\n",
    "plt.plot(range(110000), range(110000), c='red')"
   ]
  },
  {
   "cell_type": "code",
   "execution_count": 29,
   "id": "e80c77db",
   "metadata": {},
   "outputs": [
    {
     "data": {
      "text/html": [
       "<div>\n",
       "<style scoped>\n",
       "    .dataframe tbody tr th:only-of-type {\n",
       "        vertical-align: middle;\n",
       "    }\n",
       "\n",
       "    .dataframe tbody tr th {\n",
       "        vertical-align: top;\n",
       "    }\n",
       "\n",
       "    .dataframe thead th {\n",
       "        text-align: right;\n",
       "    }\n",
       "</style>\n",
       "<table border=\"1\" class=\"dataframe\">\n",
       "  <thead>\n",
       "    <tr style=\"text-align: right;\">\n",
       "      <th></th>\n",
       "      <th>Price</th>\n",
       "      <th>Real Value</th>\n",
       "      <th>Ratio</th>\n",
       "      <th>Diff</th>\n",
       "    </tr>\n",
       "  </thead>\n",
       "  <tbody>\n",
       "    <tr>\n",
       "      <th>32</th>\n",
       "      <td>41867</td>\n",
       "      <td>48929.380000</td>\n",
       "      <td>1.168686</td>\n",
       "      <td>-7062.380000</td>\n",
       "    </tr>\n",
       "    <tr>\n",
       "      <th>124</th>\n",
       "      <td>16697</td>\n",
       "      <td>24046.940000</td>\n",
       "      <td>1.440195</td>\n",
       "      <td>-7349.940000</td>\n",
       "    </tr>\n",
       "    <tr>\n",
       "      <th>514</th>\n",
       "      <td>30867</td>\n",
       "      <td>42963.990000</td>\n",
       "      <td>1.391907</td>\n",
       "      <td>-12096.990000</td>\n",
       "    </tr>\n",
       "    <tr>\n",
       "      <th>1013</th>\n",
       "      <td>31724</td>\n",
       "      <td>39439.201238</td>\n",
       "      <td>1.243198</td>\n",
       "      <td>-7715.201238</td>\n",
       "    </tr>\n",
       "    <tr>\n",
       "      <th>1641</th>\n",
       "      <td>8803</td>\n",
       "      <td>17039.233667</td>\n",
       "      <td>1.935617</td>\n",
       "      <td>-8236.233667</td>\n",
       "    </tr>\n",
       "    <tr>\n",
       "      <th>2582</th>\n",
       "      <td>27942</td>\n",
       "      <td>33582.815000</td>\n",
       "      <td>1.201876</td>\n",
       "      <td>-5640.815000</td>\n",
       "    </tr>\n",
       "    <tr>\n",
       "      <th>2592</th>\n",
       "      <td>59415</td>\n",
       "      <td>69263.660000</td>\n",
       "      <td>1.165760</td>\n",
       "      <td>-9848.660000</td>\n",
       "    </tr>\n",
       "    <tr>\n",
       "      <th>2995</th>\n",
       "      <td>28557</td>\n",
       "      <td>37520.240000</td>\n",
       "      <td>1.313872</td>\n",
       "      <td>-8963.240000</td>\n",
       "    </tr>\n",
       "    <tr>\n",
       "      <th>4191</th>\n",
       "      <td>43770</td>\n",
       "      <td>49582.101333</td>\n",
       "      <td>1.132787</td>\n",
       "      <td>-5812.101333</td>\n",
       "    </tr>\n",
       "    <tr>\n",
       "      <th>4364</th>\n",
       "      <td>34225</td>\n",
       "      <td>41985.840000</td>\n",
       "      <td>1.226759</td>\n",
       "      <td>-7760.840000</td>\n",
       "    </tr>\n",
       "    <tr>\n",
       "      <th>4376</th>\n",
       "      <td>29293</td>\n",
       "      <td>34563.814500</td>\n",
       "      <td>1.179934</td>\n",
       "      <td>-5270.814500</td>\n",
       "    </tr>\n",
       "    <tr>\n",
       "      <th>4675</th>\n",
       "      <td>10896</td>\n",
       "      <td>17219.688508</td>\n",
       "      <td>1.580368</td>\n",
       "      <td>-6323.688508</td>\n",
       "    </tr>\n",
       "    <tr>\n",
       "      <th>5615</th>\n",
       "      <td>16195</td>\n",
       "      <td>22220.175000</td>\n",
       "      <td>1.372039</td>\n",
       "      <td>-6025.175000</td>\n",
       "    </tr>\n",
       "    <tr>\n",
       "      <th>5679</th>\n",
       "      <td>29368</td>\n",
       "      <td>34740.360000</td>\n",
       "      <td>1.182932</td>\n",
       "      <td>-5372.360000</td>\n",
       "    </tr>\n",
       "    <tr>\n",
       "      <th>5964</th>\n",
       "      <td>37739</td>\n",
       "      <td>45213.060000</td>\n",
       "      <td>1.198046</td>\n",
       "      <td>-7474.060000</td>\n",
       "    </tr>\n",
       "  </tbody>\n",
       "</table>\n",
       "</div>"
      ],
      "text/plain": [
       "      Price    Real Value     Ratio          Diff\n",
       "32    41867  48929.380000  1.168686  -7062.380000\n",
       "124   16697  24046.940000  1.440195  -7349.940000\n",
       "514   30867  42963.990000  1.391907 -12096.990000\n",
       "1013  31724  39439.201238  1.243198  -7715.201238\n",
       "1641   8803  17039.233667  1.935617  -8236.233667\n",
       "2582  27942  33582.815000  1.201876  -5640.815000\n",
       "2592  59415  69263.660000  1.165760  -9848.660000\n",
       "2995  28557  37520.240000  1.313872  -8963.240000\n",
       "4191  43770  49582.101333  1.132787  -5812.101333\n",
       "4364  34225  41985.840000  1.226759  -7760.840000\n",
       "4376  29293  34563.814500  1.179934  -5270.814500\n",
       "4675  10896  17219.688508  1.580368  -6323.688508\n",
       "5615  16195  22220.175000  1.372039  -6025.175000\n",
       "5679  29368  34740.360000  1.182932  -5372.360000\n",
       "5964  37739  45213.060000  1.198046  -7474.060000"
      ]
     },
     "execution_count": 29,
     "metadata": {},
     "output_type": "execute_result"
    }
   ],
   "source": [
    "y_diff_random = y - y_pred_random\n",
    "y_result_random = pd.DataFrame({\"Price\": y, 'Real Value': y_pred_random, 'Ratio': y_pred_random / y, \"Diff\": y_diff_random})\n",
    "y_result_random[(y_result_random[\"Diff\"] < -5000)]"
   ]
  },
  {
   "cell_type": "markdown",
   "id": "d8d52a8f",
   "metadata": {},
   "source": [
    "## Decision Tree Graph"
   ]
  },
  {
   "cell_type": "code",
   "execution_count": 30,
   "id": "ded7261f",
   "metadata": {},
   "outputs": [
    {
     "data": {
      "text/plain": [
       "[<matplotlib.lines.Line2D at 0x14752b210>]"
      ]
     },
     "execution_count": 30,
     "metadata": {},
     "output_type": "execute_result"
    },
    {
     "data": {
      "image/png": "[encoded data removed]",
      "text/plain": [
       "<Figure size 1200x800 with 1 Axes>"
      ]
     },
     "metadata": {},
     "output_type": "display_data"
    }
   ],
   "source": [
    "y_pred_dec = dec_model.predict(X)\n",
    "plt.figure(figsize=(12,8))\n",
    "plt.scatter(y_pred_dec, y)\n",
    "plt.plot(range(110000), range(110000), c='red')"
   ]
  },
  {
   "cell_type": "code",
   "execution_count": 31,
   "id": "a0002cc7",
   "metadata": {},
   "outputs": [
    {
     "data": {
      "text/html": [
       "<div>\n",
       "<style scoped>\n",
       "    .dataframe tbody tr th:only-of-type {\n",
       "        vertical-align: middle;\n",
       "    }\n",
       "\n",
       "    .dataframe tbody tr th {\n",
       "        vertical-align: top;\n",
       "    }\n",
       "\n",
       "    .dataframe thead th {\n",
       "        text-align: right;\n",
       "    }\n",
       "</style>\n",
       "<table border=\"1\" class=\"dataframe\">\n",
       "  <thead>\n",
       "    <tr style=\"text-align: right;\">\n",
       "      <th></th>\n",
       "      <th>Price</th>\n",
       "      <th>Real Value</th>\n",
       "      <th>Ratio</th>\n",
       "      <th>Diff</th>\n",
       "    </tr>\n",
       "  </thead>\n",
       "  <tbody>\n",
       "    <tr>\n",
       "      <th>32</th>\n",
       "      <td>41867</td>\n",
       "      <td>51928.0</td>\n",
       "      <td>1.240309</td>\n",
       "      <td>-10061.0</td>\n",
       "    </tr>\n",
       "    <tr>\n",
       "      <th>41</th>\n",
       "      <td>34657</td>\n",
       "      <td>39834.0</td>\n",
       "      <td>1.149378</td>\n",
       "      <td>-5177.0</td>\n",
       "    </tr>\n",
       "    <tr>\n",
       "      <th>124</th>\n",
       "      <td>16697</td>\n",
       "      <td>24578.0</td>\n",
       "      <td>1.472001</td>\n",
       "      <td>-7881.0</td>\n",
       "    </tr>\n",
       "    <tr>\n",
       "      <th>785</th>\n",
       "      <td>59282</td>\n",
       "      <td>64453.0</td>\n",
       "      <td>1.087227</td>\n",
       "      <td>-5171.0</td>\n",
       "    </tr>\n",
       "    <tr>\n",
       "      <th>1013</th>\n",
       "      <td>31724</td>\n",
       "      <td>39834.0</td>\n",
       "      <td>1.255642</td>\n",
       "      <td>-8110.0</td>\n",
       "    </tr>\n",
       "    <tr>\n",
       "      <th>1437</th>\n",
       "      <td>45392</td>\n",
       "      <td>51928.0</td>\n",
       "      <td>1.143990</td>\n",
       "      <td>-6536.0</td>\n",
       "    </tr>\n",
       "    <tr>\n",
       "      <th>1641</th>\n",
       "      <td>8803</td>\n",
       "      <td>16605.0</td>\n",
       "      <td>1.886289</td>\n",
       "      <td>-7802.0</td>\n",
       "    </tr>\n",
       "    <tr>\n",
       "      <th>1908</th>\n",
       "      <td>25848</td>\n",
       "      <td>33020.0</td>\n",
       "      <td>1.277468</td>\n",
       "      <td>-7172.0</td>\n",
       "    </tr>\n",
       "    <tr>\n",
       "      <th>2592</th>\n",
       "      <td>59415</td>\n",
       "      <td>67368.0</td>\n",
       "      <td>1.133855</td>\n",
       "      <td>-7953.0</td>\n",
       "    </tr>\n",
       "    <tr>\n",
       "      <th>2995</th>\n",
       "      <td>28557</td>\n",
       "      <td>43002.0</td>\n",
       "      <td>1.505830</td>\n",
       "      <td>-14445.0</td>\n",
       "    </tr>\n",
       "    <tr>\n",
       "      <th>3412</th>\n",
       "      <td>18828</td>\n",
       "      <td>24608.0</td>\n",
       "      <td>1.306990</td>\n",
       "      <td>-5780.0</td>\n",
       "    </tr>\n",
       "    <tr>\n",
       "      <th>3617</th>\n",
       "      <td>17934</td>\n",
       "      <td>24608.0</td>\n",
       "      <td>1.372142</td>\n",
       "      <td>-6674.0</td>\n",
       "    </tr>\n",
       "    <tr>\n",
       "      <th>4191</th>\n",
       "      <td>43770</td>\n",
       "      <td>49804.0</td>\n",
       "      <td>1.137857</td>\n",
       "      <td>-6034.0</td>\n",
       "    </tr>\n",
       "    <tr>\n",
       "      <th>4364</th>\n",
       "      <td>34225</td>\n",
       "      <td>40427.0</td>\n",
       "      <td>1.181213</td>\n",
       "      <td>-6202.0</td>\n",
       "    </tr>\n",
       "    <tr>\n",
       "      <th>4651</th>\n",
       "      <td>31230</td>\n",
       "      <td>38264.0</td>\n",
       "      <td>1.225232</td>\n",
       "      <td>-7034.0</td>\n",
       "    </tr>\n",
       "    <tr>\n",
       "      <th>4675</th>\n",
       "      <td>10896</td>\n",
       "      <td>20930.0</td>\n",
       "      <td>1.920888</td>\n",
       "      <td>-10034.0</td>\n",
       "    </tr>\n",
       "    <tr>\n",
       "      <th>5455</th>\n",
       "      <td>27550</td>\n",
       "      <td>32692.0</td>\n",
       "      <td>1.186642</td>\n",
       "      <td>-5142.0</td>\n",
       "    </tr>\n",
       "    <tr>\n",
       "      <th>5615</th>\n",
       "      <td>16195</td>\n",
       "      <td>26746.0</td>\n",
       "      <td>1.651497</td>\n",
       "      <td>-10551.0</td>\n",
       "    </tr>\n",
       "    <tr>\n",
       "      <th>5679</th>\n",
       "      <td>29368</td>\n",
       "      <td>34458.0</td>\n",
       "      <td>1.173318</td>\n",
       "      <td>-5090.0</td>\n",
       "    </tr>\n",
       "    <tr>\n",
       "      <th>5695</th>\n",
       "      <td>14501</td>\n",
       "      <td>24608.0</td>\n",
       "      <td>1.696986</td>\n",
       "      <td>-10107.0</td>\n",
       "    </tr>\n",
       "    <tr>\n",
       "      <th>5964</th>\n",
       "      <td>37739</td>\n",
       "      <td>46186.0</td>\n",
       "      <td>1.223827</td>\n",
       "      <td>-8447.0</td>\n",
       "    </tr>\n",
       "  </tbody>\n",
       "</table>\n",
       "</div>"
      ],
      "text/plain": [
       "      Price  Real Value     Ratio     Diff\n",
       "32    41867     51928.0  1.240309 -10061.0\n",
       "41    34657     39834.0  1.149378  -5177.0\n",
       "124   16697     24578.0  1.472001  -7881.0\n",
       "785   59282     64453.0  1.087227  -5171.0\n",
       "1013  31724     39834.0  1.255642  -8110.0\n",
       "1437  45392     51928.0  1.143990  -6536.0\n",
       "1641   8803     16605.0  1.886289  -7802.0\n",
       "1908  25848     33020.0  1.277468  -7172.0\n",
       "2592  59415     67368.0  1.133855  -7953.0\n",
       "2995  28557     43002.0  1.505830 -14445.0\n",
       "3412  18828     24608.0  1.306990  -5780.0\n",
       "3617  17934     24608.0  1.372142  -6674.0\n",
       "4191  43770     49804.0  1.137857  -6034.0\n",
       "4364  34225     40427.0  1.181213  -6202.0\n",
       "4651  31230     38264.0  1.225232  -7034.0\n",
       "4675  10896     20930.0  1.920888 -10034.0\n",
       "5455  27550     32692.0  1.186642  -5142.0\n",
       "5615  16195     26746.0  1.651497 -10551.0\n",
       "5679  29368     34458.0  1.173318  -5090.0\n",
       "5695  14501     24608.0  1.696986 -10107.0\n",
       "5964  37739     46186.0  1.223827  -8447.0"
      ]
     },
     "execution_count": 31,
     "metadata": {},
     "output_type": "execute_result"
    }
   ],
   "source": [
    "y_diff_dec = y - y_pred_dec\n",
    "y_result_dec = pd.DataFrame({\"Price\": y, 'Real Value': y_pred_dec, 'Ratio': y_pred_dec / y, \"Diff\": y_diff_dec})\n",
    "y_result_dec[(y_result_dec[\"Diff\"] < -5000)]"
   ]
  },
  {
   "cell_type": "markdown",
   "id": "b6be3c64",
   "metadata": {},
   "source": [
    "# Описание результатов\n",
    "---\n",
    "Мы получили разные данные по бриллиантам с разных регрессионных моделей, теперь наша задача состоит в том чтобы правильно использовать данную информацию, и выделить 5 лучших вариантов бриллиантов для Сары:\n",
    "1. Самая часто встречающаяся модель бриллианта имеет индекс 1641 (ID = 1642), и она всегда имееет лучшие показатели соотношения реальной себестоимости на цену предлагаемую в магазине (Ratio > 1.88). \n",
    "2. Дальше, хотелось бы выделить модель с индексом 2592 (ID = 2593), так как она также встречается во всех трех регрессионных моделях, а также имеет хорошие значение в разности (Diff > 7953).\n",
    "3. Потому как мы выделили уже 2 модели, которые сильно разнятся по цене, то следующую стоит выбрать так, чтобы ее цена было около среднего значение двух предыдущих. Под такие критерии отлично подходит модель с индексом 4364 (ID = 4365), так как она встречается во всех регрессионных моделях, а также имеет неплохие значения в разнице и соотношении.\n",
    "4. Следующим вариантом мог бы быть бриллиант с индексом 4191 (ID = 4192), она как и все остальные присутствует в регрессионных моделях, а также имеет хорошие показатели, но данная модель являеться, что-то средним между моделями с индексами 2592 и 4364.\n",
    "5. И последним будет модель с индексом 4181 (ID = 4182), хоть она и не появилось в регрессионной модели дерева решений, что может быть обусловленно худшей результативностью среди трех моделей, данный вариант являеться следующим по бюджету после 1641, имея отличные показатели в регрессионных моделях XGBoost и Random Forest."
   ]
  },
  {
   "cell_type": "markdown",
   "id": "aa43789b",
   "metadata": {},
   "source": [
    "# Result"
   ]
  },
  {
   "cell_type": "code",
   "execution_count": 32,
   "id": "6713bfb3",
   "metadata": {},
   "outputs": [
    {
     "data": {
      "text/html": [
       "<div>\n",
       "<style scoped>\n",
       "    .dataframe tbody tr th:only-of-type {\n",
       "        vertical-align: middle;\n",
       "    }\n",
       "\n",
       "    .dataframe tbody tr th {\n",
       "        vertical-align: top;\n",
       "    }\n",
       "\n",
       "    .dataframe thead th {\n",
       "        text-align: right;\n",
       "    }\n",
       "</style>\n",
       "<table border=\"1\" class=\"dataframe\">\n",
       "  <thead>\n",
       "    <tr style=\"text-align: right;\">\n",
       "      <th></th>\n",
       "      <th>ID</th>\n",
       "      <th>Carat Weight</th>\n",
       "      <th>Cut</th>\n",
       "      <th>Color</th>\n",
       "      <th>Clarity</th>\n",
       "      <th>Polish</th>\n",
       "      <th>Symmetry</th>\n",
       "      <th>Report</th>\n",
       "      <th>Price</th>\n",
       "    </tr>\n",
       "  </thead>\n",
       "  <tbody>\n",
       "    <tr>\n",
       "      <th>1641</th>\n",
       "      <td>1642</td>\n",
       "      <td>2.00</td>\n",
       "      <td>Very Good</td>\n",
       "      <td>H</td>\n",
       "      <td>SI1</td>\n",
       "      <td>EX</td>\n",
       "      <td>EX</td>\n",
       "      <td>GIA</td>\n",
       "      <td>8803</td>\n",
       "    </tr>\n",
       "    <tr>\n",
       "      <th>2592</th>\n",
       "      <td>2593</td>\n",
       "      <td>2.35</td>\n",
       "      <td>Very Good</td>\n",
       "      <td>D</td>\n",
       "      <td>IF</td>\n",
       "      <td>VG</td>\n",
       "      <td>VG</td>\n",
       "      <td>GIA</td>\n",
       "      <td>59415</td>\n",
       "    </tr>\n",
       "    <tr>\n",
       "      <th>4181</th>\n",
       "      <td>4182</td>\n",
       "      <td>2.27</td>\n",
       "      <td>Ideal</td>\n",
       "      <td>H</td>\n",
       "      <td>VVS2</td>\n",
       "      <td>EX</td>\n",
       "      <td>EX</td>\n",
       "      <td>GIA</td>\n",
       "      <td>23864</td>\n",
       "    </tr>\n",
       "    <tr>\n",
       "      <th>4191</th>\n",
       "      <td>4192</td>\n",
       "      <td>2.11</td>\n",
       "      <td>Ideal</td>\n",
       "      <td>D</td>\n",
       "      <td>VVS2</td>\n",
       "      <td>EX</td>\n",
       "      <td>EX</td>\n",
       "      <td>GIA</td>\n",
       "      <td>43770</td>\n",
       "    </tr>\n",
       "    <tr>\n",
       "      <th>4364</th>\n",
       "      <td>4365</td>\n",
       "      <td>2.23</td>\n",
       "      <td>Ideal</td>\n",
       "      <td>F</td>\n",
       "      <td>VVS2</td>\n",
       "      <td>EX</td>\n",
       "      <td>EX</td>\n",
       "      <td>GIA</td>\n",
       "      <td>34225</td>\n",
       "    </tr>\n",
       "  </tbody>\n",
       "</table>\n",
       "</div>"
      ],
      "text/plain": [
       "        ID  Carat Weight        Cut Color Clarity Polish Symmetry Report  \\\n",
       "1641  1642          2.00  Very Good     H     SI1     EX       EX    GIA   \n",
       "2592  2593          2.35  Very Good     D      IF     VG       VG    GIA   \n",
       "4181  4182          2.27      Ideal     H    VVS2     EX       EX    GIA   \n",
       "4191  4192          2.11      Ideal     D    VVS2     EX       EX    GIA   \n",
       "4364  4365          2.23      Ideal     F    VVS2     EX       EX    GIA   \n",
       "\n",
       "      Price  \n",
       "1641   8803  \n",
       "2592  59415  \n",
       "4181  23864  \n",
       "4191  43770  \n",
       "4364  34225  "
      ]
     },
     "execution_count": 32,
     "metadata": {},
     "output_type": "execute_result"
    }
   ],
   "source": [
    "df[df[\"ID\"].isin([1642, 2593, 4365, 4192, 4182])]"
   ]
  }
 ],
 "metadata": {
  "kernelspec": {
   "display_name": "Python 3 (ipykernel)",
   "language": "python",
   "name": "python3"
  },
  "language_info": {
   "codemirror_mode": {
    "name": "ipython",
    "version": 3
   },
   "file_extension": ".py",
   "mimetype": "text/x-python",
   "name": "python",
   "nbconvert_exporter": "python",
   "pygments_lexer": "ipython3",
   "version": "3.11.4"
  }
 },
 "nbformat": 4,
 "nbformat_minor": 5
}
